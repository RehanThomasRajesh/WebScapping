{
  "nbformat": 4,
  "nbformat_minor": 0,
  "metadata": {
    "colab": {
      "provenance": []
    },
    "kernelspec": {
      "name": "python3",
      "display_name": "Python 3"
    },
    "language_info": {
      "name": "python"
    }
  },
  "cells": [
    {
      "cell_type": "code",
      "execution_count": 6,
      "metadata": {
        "id": "jWKJfTgVTDrU"
      },
      "outputs": [],
      "source": [
        "import requests\n",
        "from bs4 import BeautifulSoup\n",
        "import csv"
      ]
    },
    {
      "cell_type": "code",
      "source": [
        "# URL of the Flipkart TV category page\n",
        "url = 'https://www.flipkart.com/mens-footwear/casual-shoes/pr?sid=osp,cil'\n",
        "\n",
        "# Send a GET request to the URL\n",
        "response = requests.get(url)"
      ],
      "metadata": {
        "id": "06syeR9jaoGk"
      },
      "execution_count": 7,
      "outputs": []
    },
    {
      "cell_type": "code",
      "source": [
        "# Parse the HTML content using BeautifulSoup\n",
        "soup = BeautifulSoup(response.content, 'html.parser')"
      ],
      "metadata": {
        "id": "czTZHYV4atzg"
      },
      "execution_count": 8,
      "outputs": []
    },
    {
      "cell_type": "code",
      "source": [
        "\n",
        "shoe_containers = soup.find_all('div', {'class': '_2B099V'})\n"
      ],
      "metadata": {
        "id": "97RE8v-xazcz"
      },
      "execution_count": 9,
      "outputs": []
    },
    {
      "cell_type": "code",
      "source": [
        "# Create a CSV file to store the product details\n",
        "csv_filename = 'flipkart_mens_shoes.csv'\n",
        "\n",
        "# Open the CSV file in write mode\n",
        "with open(csv_filename, 'w', newline='', encoding='utf-8') as csv_file:\n",
        "    # Create a CSV writer\n",
        "    csv_writer = csv.writer(csv_file)\n",
        "\n",
        "    # Write the header row\n",
        "    csv_writer.writerow(['Shoe Name', 'Price', 'Discount'])\n",
        "\n",
        "    # Loop through each shoe container and extract shoe details\n",
        "    for shoe in shoe_containers:\n",
        "        try:\n",
        "            shoe_name = shoe.find('a', {'class': 'IRpwTa'}).text\n",
        "            price = shoe.find('div', {'class': '_30jeq3'}).text\n",
        "            discount = shoe.find('div', {'class': '_3Ay6Sb'}).text\n",
        "\n",
        "            # Write the shoe details to the CSV file\n",
        "            csv_writer.writerow([shoe_name, price, discount])\n",
        "        except AttributeError:\n",
        "            continue\n",
        "\n",
        "print('Scraping and CSV export completed successfully.')"
      ],
      "metadata": {
        "id": "F1AYbJlta3ui",
        "outputId": "05420d46-4d3c-4b42-90c9-8f2991e9f3f5",
        "colab": {
          "base_uri": "https://localhost:8080/"
        }
      },
      "execution_count": 10,
      "outputs": [
        {
          "output_type": "stream",
          "name": "stdout",
          "text": [
            "Scraping and CSV export completed successfully.\n"
          ]
        }
      ]
    }
  ]
}